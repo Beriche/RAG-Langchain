{
 "cells": [
  {
   "cell_type": "code",
   "execution_count": 38,
   "metadata": {},
   "outputs": [],
   "source": [
    "import os \n",
    "from typing import List, TypedDict\n",
    "from mistralai import Mistral\n",
    "from dotenv import load_dotenv\n",
    "from langchain.chat_models import init_chat_model\n",
    "from langchain_mistralai import MistralAIEmbeddings\n",
    "from langchain_core.vectorstores import InMemoryVectorStore\n",
    "from langchain.document_loaders import DirectoryLoader,TextLoader\n",
    "from langchain_core.documents import Document\n",
    "from langchain_community.vectorstores import FAISS\n",
    "from langchain import hub\n",
    "from langgraph.graph import START, StateGraph\n",
    "from langchain_text_splitters import RecursiveCharacterTextSplitter\n",
    "\n",
    "\n"
   ]
  },
  {
   "cell_type": "code",
   "execution_count": 39,
   "metadata": {},
   "outputs": [],
   "source": [
    "\n",
    "load_dotenv()\n",
    "\n",
    "tracing = os.getenv(\"LANGSMITH_TRACING\")\n",
    "api_key = os.getenv(\"LANGSMITH_API_KEY\")\n",
    "Mistral_api_key = Mistral(api_key=os.getenv(\"MISTRAL_API_KEY\"))\n",
    "\n",
    "# Chemin vers le dossier contenant vos documents\n",
    "DOCUMENTS_PATH = \"../data\""
   ]
  },
  {
   "cell_type": "code",
   "execution_count": 40,
   "metadata": {},
   "outputs": [],
   "source": [
    "# Chat model mistral\n",
    "llm = init_chat_model(\"mistral-large-latest\", model_provider=\"mistralai\")\n",
    "\n"
   ]
  },
  {
   "cell_type": "code",
   "execution_count": null,
   "metadata": {},
   "outputs": [
    {
     "name": "stdout",
     "output_type": "stream",
     "text": [
      "2 documents chargés avec succès.\n",
      "Document 1:\n",
      "Nom du fichier : FAQ_kap_numerique.txt\n",
      "--------------------------------------------------\n",
      "Document 2:\n",
      "Nom du fichier : Fiche_action_1.2.5_kap_numerique.txt\n",
      "--------------------------------------------------\n"
     ]
    }
   ],
   "source": [
    "# Charger les documents depuis le dossier \"data\"\n",
    "\n",
    "loader = DirectoryLoader(\n",
    "    DOCUMENTS_PATH,\n",
    "    glob=\"*.txt\",  # Charger uniquement les fichiers .txt\n",
    "    loader_cls=TextLoader,\n",
    "    loader_kwargs={\"encoding\": \"utf-8\"}  # Spécifier l'encodage approprié\n",
    ")\n",
    "docs = loader.load()\n",
    "\n",
    "if docs:\n",
    "    print(f\"{len(docs)} documents chargés avec succès.\")\n",
    "    for i, doc in enumerate(docs[:5]):  # Afficher les 5 premiers documents\n",
    "        # Extraire le nom du fichier depuis la métadonnée \"source\"\n",
    "        source = doc.metadata.get(\"source\", \"inconnu\")\n",
    "        file_title = os.path.basename(source)        \n",
    "        print(f\"Document {i+1}:\")\n",
    "        print(f\"Nom du fichier : {file_title}\")\n",
    "        print(\"-\" * 50)\n",
    "else:\n",
    "    print(\"Aucun document n'a été chargé.\")"
   ]
  },
  {
   "cell_type": "code",
   "execution_count": 42,
   "metadata": {},
   "outputs": [],
   "source": [
    "# Découper les documents en chunks pour un meilleur traitement par le modèle\n",
    "text_splitter = RecursiveCharacterTextSplitter(chunk_size=1000, chunk_overlap=200)\n",
    "all_splits = text_splitter.split_documents(docs)"
   ]
  },
  {
   "cell_type": "code",
   "execution_count": 43,
   "metadata": {},
   "outputs": [
    {
     "name": "stderr",
     "output_type": "stream",
     "text": [
      "c:\\Python312\\Lib\\site-packages\\langchain_mistralai\\embeddings.py:181: UserWarning: Could not download mistral tokenizer from Huggingface for calculating batch sizes. Set a Huggingface token via the HF_TOKEN environment variable to download the real tokenizer. Falling back to a dummy tokenizer that uses `len()`.\n",
      "  warnings.warn(\n"
     ]
    }
   ],
   "source": [
    "# Initialiser les embeddings Mistral\n",
    "embeddings = MistralAIEmbeddings()"
   ]
  },
  {
   "cell_type": "code",
   "execution_count": 44,
   "metadata": {},
   "outputs": [],
   "source": [
    "#Vector \n",
    "vector_store = InMemoryVectorStore(embeddings)\n",
    "# Créer le vectorstore en mémoire à partir des chunks et des embeddings\n",
    "vector_store = InMemoryVectorStore.from_documents(all_splits, embeddings)"
   ]
  },
  {
   "cell_type": "code",
   "execution_count": 48,
   "metadata": {},
   "outputs": [],
   "source": [
    "# Définir le prompt pour la recherche de réponse\n",
    "prompt = hub.pull(\"rlm/rag-prompt\")\n",
    "\n",
    "# Définition de l'état de l'application\n",
    "class State(TypedDict):\n",
    "    question: str\n",
    "    context: List  # Liste d'objets Document\n",
    "    answer: str\n",
    "    \n",
    "# Fonction de récupération (retrieval) des documents pertinents\n",
    "def retrieve(state: State):\n",
    "    retrieved_docs = vector_store.similarity_search(state[\"question\"], k=3)\n",
    "    return {\"context\": retrieved_docs}\n",
    "\n",
    "\n",
    "# Fonction de génération de la réponse formatée avec le rôle et les sources\n",
    "def generate(state: State):\n",
    "    # Agrégation du contenu des documents récupérés\n",
    "    docs_content = \"\\n\\n\".join(doc.page_content for doc in state[\"context\"])\n",
    "    \n",
    "    # (Optionnel) Construction d'une liste de sources depuis les métadonnées de chaque document\n",
    "    sources_list = []\n",
    "    for doc in state[\"context\"]:\n",
    "        # Exemple : extraire le chemin du fichier ou toute métadonnée pertinente\n",
    "        source_info = doc.metadata.get(\"source\", \"Source inconnue\")\n",
    "        sources_list.append(source_info)\n",
    "    # Formatage sommaire des sources, si besoin (le LLM pourra les intégrer dans sa réponse)\n",
    "    formatted_sources = \"\\n\".join(f\"[Document: {src}]\" for src in sources_list)\n",
    "    \n",
    "    # Instructions système décrivant le rôle du LLM et le format de réponse attendu\n",
    "    system_instructions = (\n",
    "        \"Tu es un instructeur de dossier du Kap numérique. Tu reçois des questions par mail sur le dispositif Kap numérique \"\n",
    "        \"et tu dois y répondre en te basant sur les documents officiels, la fiche d'action et la FAQ du Kap numérique.\\n\\n\"\n",
    "        \"Ta réponse doit être structurée en deux parties :\\n\"\n",
    "        \"1. Réponse : Fournis une réponse claire, détaillée et structurée. Utilise des listes à puces ou une numérotation si nécessaire.\\n\"\n",
    "        \"2. Sources : Pour chaque information importante, cite la provenance sous la forme :\\n\"\n",
    "        \"   [Document: Nom du document, Section: Nom de la section, Page: Numéro de page].\\n\\n\"\n",
    "        \"Exemple:\\n\"\n",
    "        \"Question: Quels types de projets peuvent être financés par KAP numérik?\\n\\n\"\n",
    "        \"Réponse:\\n\"\n",
    "        \"   Le dispositif KAP numérik finance des projets liés à la stratégie digitale de l'entreprise dans une phase d'amorçage. Ces projets se répartissent en deux catégories principales:\\n\"\n",
    "        \"   1. Projets liés à la visibilité numérique et aux services aux usagers:\\n\"\n",
    "        \"      - Digitalisation de contenus (logo, charte graphique)\\n\"\n",
    "        \"      - Création ou refonte d'un site internet ou d'une solution de vente en ligne\\n\"\n",
    "        \"      - Référencement naturel (SEO)\\n\"\n",
    "        \"      - Abonnement à une place de marché\\n\"\n",
    "        \"      - Développement de la présence sur les réseaux sociaux\\n\"\n",
    "        \"      - Développement d'une application mobile\\n\"\n",
    "        \"      - Mise en place de chatbots\\n\"\n",
    "        \"   2. Projets liés à la sécurité informatique:\\n\"\n",
    "        \"      - Audits de sécurité, tests d'intrusion\\n\"\n",
    "        \"      - Sécurisation des sites internet\\n\"\n",
    "        \"      - Sécurisation des données (conformité RGPD, correction des failles)\\n\"\n",
    "        \"      - Assistance à la création de VPN\\n\"\n",
    "        \"      - Prestation de sauvegarde des données\\n\\n\"\n",
    "        \"Sources:\\n\"\n",
    "        \"   [Document: FA_1.2.5_kap_numerique.pdf, Section: 3. DESCRIPTION TECHNIQUE, Page: 2]\\n\"\n",
    "        \"   [Document: FAQs-Kap Numerique V2, Section: 3-Projets finançables, Mise à jour: 04/03/2025]\\n\\n\"\n",
    "        \"Maintenant, réponds à la question en respectant ce format.\"\n",
    "    )\n",
    "    \n",
    "    # Construction de l'invite utilisateur\n",
    "    user_prompt = f\"Question: {state['question']}\\n\\nContexte extrait des documents:\\n{docs_content}\"\n",
    "    \n",
    "    # Messages combinant instructions système et question de l'utilisateur\n",
    "    messages = [\n",
    "        {\"role\": \"system\", \"content\": system_instructions},\n",
    "        {\"role\": \"user\", \"content\": user_prompt}\n",
    "    ]\n",
    "    \n",
    "    # Appel au modèle LLM\n",
    "    response = llm.invoke(messages)\n",
    "    \n",
    "    # La réponse du LLM devrait déjà être formatée comme demandé\n",
    "    return {\"answer\": response.content}\n",
    "\n",
    "# Construction du graphe d'application\n",
    "graph_builder = StateGraph(State).add_sequence([retrieve, generate])\n",
    "graph_builder.add_edge(START, \"retrieve\")\n",
    "graph = graph_builder.compile()\n",
    "\n"
   ]
  },
  {
   "cell_type": "code",
   "execution_count": 49,
   "metadata": {},
   "outputs": [
    {
     "name": "stdout",
     "output_type": "stream",
     "text": [
      "Tapez 'exit' pour quitter.\n"
     ]
    },
    {
     "name": "stdout",
     "output_type": "stream",
     "text": [
      "\n",
      "Réponse : **Réponse :**\n",
      "\n",
      "Les conditions d'éligibilité liées à la taille et au chiffre d'affaires pour le dispositif KAP numérique sont les suivantes :\n",
      "\n",
      "1. **Entreprises :**\n",
      "   - **0 à 9 salariés :** Le chiffre d'affaires doit être inférieur à 500 000 €.\n",
      "   - **10 à 19 salariés :** Le chiffre d'affaires doit être inférieur à 1 000 000 €.\n",
      "\n",
      "2. **Professions libérales non réglementées :**\n",
      "   - Le chiffre d'affaires doit être inférieur à 500 000 €.\n",
      "\n",
      "3. **Associations :**\n",
      "   - Le nombre de salariés doit être inférieur à 10.\n",
      "\n",
      "**Sources :**\n",
      "- [Document: FA_1.2.5_kap_numerique.pdf, Section: 2. Éligibilité, Page: 1]\n",
      "- [Document: FAQs-Kap Numerique V2, Section: 2-Éligibilité, Mise à jour: 04/03/2025]\n",
      "\n",
      "Réponse : Question: Quels sont les critères de sélection des projets pour le dispositif KAP numérik?\n",
      "\n",
      "Réponse:\n",
      "Les critères de sélection des projets pour le dispositif KAP numérik sont les suivants :\n",
      "\n",
      "1. **Cohérence avec les lignes de partage du programme** :\n",
      "   - Les opérations doivent être en cohérence avec les lignes de partage du programme pour assurer une efficacité optimale et sécuriser l’usage des fonds communautaires sur le territoire réunionnais.\n",
      "\n",
      "2. **Compatibilité avec la réglementation des aides d’état** :\n",
      "   - Les projets soutenus doivent être compatibles avec la réglementation des aides d’état.\n",
      "\n",
      "3. **Capacité technique et financière des porteurs de projet** :\n",
      "   - Les porteurs de projet doivent disposer de la capacité technique et financière nécessaire pour mener à bien les opérations sélectionnées.\n",
      "\n",
      "4. **Numérisation des activités des entreprises** :\n",
      "   - Les projets doivent permettre une numérisation des activités des entreprises comme proposé dans le Schéma Régional de Développement Économique d'innovation et d'internationalisation (SRDEII), notamment au travers du comité de filière numérique.\n",
      "\n",
      "Sources:\n",
      "   [Document: FA_1.2.5_kap_numerique.pdf, Section: 6. PERIMETRE DES DEPENSES ELIGIBLES ET NON ELIGIBLES, Page: 4]\n"
     ]
    }
   ],
   "source": [
    "if __name__ == \"__main__\":\n",
    "    print(\"Tapez 'exit' pour quitter.\")\n",
    "    while True:\n",
    "        user_query = input(\"\\nPosez votre question : \")\n",
    "        if user_query.lower() in [\"exit\", \"quit\"]:\n",
    "            break\n",
    "        initial_state = {\"question\": user_query, \"context\": [], \"answer\": \"\"}\n",
    "        state = graph.invoke(initial_state)  \n",
    "        \n",
    "        # Vous pouvez ici enrichir la réponse en affichant aussi la provenance des passages utilisés\n",
    "        print(\"\\nRéponse :\", state[\"answer\"])"
   ]
  }
 ],
 "metadata": {
  "kernelspec": {
   "display_name": "Python 3",
   "language": "python",
   "name": "python3"
  },
  "language_info": {
   "codemirror_mode": {
    "name": "ipython",
    "version": 3
   },
   "file_extension": ".py",
   "mimetype": "text/x-python",
   "name": "python",
   "nbconvert_exporter": "python",
   "pygments_lexer": "ipython3",
   "version": "3.12.0"
  }
 },
 "nbformat": 4,
 "nbformat_minor": 2
}
