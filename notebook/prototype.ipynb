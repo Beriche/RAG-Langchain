{
 "cells": [
  {
   "cell_type": "code",
   "execution_count": null,
   "metadata": {},
   "outputs": [],
   "source": [
    "import os \n",
    "from typing import List, TypedDict\n",
    "from mistralai import Mistral\n",
    "from dotenv import load_dotenv\n",
    "from langchain.chat_models import init_chat_model\n",
    "from langchain_mistralai import MistralAIEmbeddings\n",
    "from langchain_core.vectorstores import InMemoryVectorStore\n",
    "from langchain.document_loaders import DirectoryLoader,TextLoader\n",
    "from langchain import hub\n",
    "from langgraph.graph import START, StateGraph\n",
    "from langchain_text_splitters import RecursiveCharacterTextSplitter\n",
    "\n",
    "\n"
   ]
  },
  {
   "cell_type": "code",
   "execution_count": 57,
   "metadata": {},
   "outputs": [],
   "source": [
    "\n",
    "load_dotenv()\n",
    "\n",
    "tracing = os.getenv(\"LANGSMITH_TRACING\")\n",
    "api_key = os.getenv(\"LANGSMITH_API_KEY\")\n",
    "Mistral_api_key = Mistral(api_key=os.getenv(\"MISTRAL_API_KEY\"))\n",
    "\n",
    "# Chemin vers le dossier contenant vos documents\n",
    "DOCUMENTS_PATH = \"../data\""
   ]
  },
  {
   "cell_type": "code",
   "execution_count": 40,
   "metadata": {},
   "outputs": [],
   "source": [
    "# Chat model mistral\n",
    "llm = init_chat_model(\"mistral-large-latest\", model_provider=\"mistralai\")\n",
    "\n"
   ]
  },
  {
   "cell_type": "code",
   "execution_count": null,
   "metadata": {},
   "outputs": [
    {
     "name": "stdout",
     "output_type": "stream",
     "text": [
      "2 documents chargés avec succès.\n",
      "Document 1:\n",
      "Nom du fichier : FAQ_kap_numerique.txt\n",
      "--------------------------------------------------\n",
      "Document 2:\n",
      "Nom du fichier : Fiche_action_1.2.5_kap_numerique.txt\n",
      "--------------------------------------------------\n"
     ]
    }
   ],
   "source": [
    "# Charger les documents depuis le dossier \"data\"\n",
    "\n",
    "loader = DirectoryLoader(\n",
    "    DOCUMENTS_PATH,\n",
    "    glob=\"*.txt\",  # Charger uniquement les fichiers .txt\n",
    "    loader_cls=TextLoader,\n",
    "    loader_kwargs={\"encoding\": \"utf-8\"}  # Spécifier l'encodage approprié\n",
    ")\n",
    "docs = loader.load()\n",
    "\n",
    "if docs:\n",
    "    print(f\"{len(docs)} documents chargés avec succès.\")\n",
    "    for i, doc in enumerate(docs[:5]):  # Afficher les 5 premiers documents\n",
    "        # Extraire le nom du fichier depuis la métadonnée \"source\"\n",
    "        source = doc.metadata.get(\"source\", \"inconnu\")\n",
    "        file_title = os.path.basename(source)        \n",
    "        print(f\"Document {i+1}:\")\n",
    "        print(f\"Nom du fichier : {file_title}\")\n",
    "        print(\"-\" * 50)\n",
    "else:\n",
    "    print(\"Aucun document n'a été chargé.\")"
   ]
  },
  {
   "cell_type": "code",
   "execution_count": 42,
   "metadata": {},
   "outputs": [],
   "source": [
    "# Découper les documents en chunks pour un meilleur traitement par le modèle\n",
    "text_splitter = RecursiveCharacterTextSplitter(chunk_size=1000, chunk_overlap=200)\n",
    "all_splits = text_splitter.split_documents(docs)"
   ]
  },
  {
   "cell_type": "code",
   "execution_count": 43,
   "metadata": {},
   "outputs": [
    {
     "name": "stderr",
     "output_type": "stream",
     "text": [
      "c:\\Python312\\Lib\\site-packages\\langchain_mistralai\\embeddings.py:181: UserWarning: Could not download mistral tokenizer from Huggingface for calculating batch sizes. Set a Huggingface token via the HF_TOKEN environment variable to download the real tokenizer. Falling back to a dummy tokenizer that uses `len()`.\n",
      "  warnings.warn(\n"
     ]
    }
   ],
   "source": [
    "# Initialiser les embeddings Mistral\n",
    "embeddings = MistralAIEmbeddings()"
   ]
  },
  {
   "cell_type": "code",
   "execution_count": 44,
   "metadata": {},
   "outputs": [],
   "source": [
    "#Vector \n",
    "vector_store = InMemoryVectorStore(embeddings)\n",
    "# Créer le vectorstore en mémoire à partir des chunks et des embeddings\n",
    "vector_store = InMemoryVectorStore.from_documents(all_splits, embeddings)"
   ]
  },
  {
   "cell_type": "code",
   "execution_count": 55,
   "metadata": {},
   "outputs": [],
   "source": [
    "# Définir le prompt pour la recherche de réponse\n",
    "prompt = hub.pull(\"rlm/rag-prompt\")\n",
    "\n",
    "# Définition de l'état de l'application\n",
    "class State(TypedDict):\n",
    "    question: str\n",
    "    context: List  # Liste d'objets Document\n",
    "    answer: str\n",
    "    \n",
    "# Fonction de récupération (retrieval) des documents pertinents\n",
    "def retrieve(state: State):\n",
    "    retrieved_docs = vector_store.similarity_search(state[\"question\"], k=3)\n",
    "    return {\"context\": retrieved_docs}\n",
    "\n",
    "\n",
    "# Fonction de génération de la réponse\n",
    "def generate(state: State):\n",
    "    # Agrégation du contenu des documents récupérés avec détails sur les sources\n",
    "    docs_details = []\n",
    "    for doc in state[\"context\"]:\n",
    "        source = doc.metadata.get(\"source\", \"Source inconnue\")\n",
    "        file_name = os.path.basename(source)\n",
    "        \n",
    "        # Extraction des métadonnées : section, page, date de mise à jour\n",
    "        section = doc.metadata.get(\"section\", \"Section non spécifiée\")\n",
    "        page = doc.metadata.get(\"page\", \"Page non spécifiée\")\n",
    "        update_date = doc.metadata.get(\"update_date\", \"Date non disponible\")\n",
    "        \n",
    "        docs_details.append({\n",
    "            \"content\": doc.page_content,\n",
    "            \"file_name\": file_name,\n",
    "            \"section\": section,\n",
    "            \"page\": page,\n",
    "            \"update_date\": update_date\n",
    "        })\n",
    "    \n",
    "    # Agrégation du contenu des documents\n",
    "    docs_content = \"\\n\\n\".join(doc[\"content\"] for doc in docs_details)\n",
    "    \n",
    "    # Formatage des sources avec section, page et date\n",
    "    formatted_sources = \"\\n\".join([\n",
    "        f\"[Document: {doc['file_name']}, Section: {doc['section']}, Page: {doc['page']}, Mise à jour: {doc['update_date']}]\" \n",
    "        for doc in docs_details\n",
    "    ])\n",
    "    \n",
    "    # Instructions système mises à jour pour inclure la question dans la réponse\n",
    "    system_instructions = (\n",
    "        \"Tu es un instructeur expert du dispositif KAP Numérique. Tu réponds à des questions en te basant uniquement sur les documents officiels fournis.\\n\\n\"\n",
    "        \"Consignes de réponse :\\n\"\n",
    "        \"1. Commence ta réponse en répétant la question posée, par exemple : 'En réponse à votre question : \\\"[question]\\\", voici les informations demandées :'\\n\"\n",
    "        \"2. Fournis une réponse concise et structurée.\\n\"\n",
    "        \"3. Utilise des listes à puces pour organiser les informations.\\n\"\n",
    "        \"4. Cites systématiquement les sources avec le format suivant : [Document: Nom du document, Section: Nom de la section, Page: Numéro de page, Mise à jour: Date].\\n\\n\"\n",
    "        \"Exemple de réponse attendue :\\n\"\n",
    "        \"Question: Quels types de projets peuvent être financés par KAP Numérique ?\\n\\n\"\n",
    "        \"Réponse:\\n\"\n",
    "        \"En réponse à votre question : \\\"Quels types de projets peuvent être financés par KAP Numérique ?\\\", voici les informations demandées :\\n\"\n",
    "        \"- Projets de visibilité numérique et services aux usagers :\\n\"\n",
    "        \"  - Digitalisation de contenus (logo, charte graphique)\\n\"\n",
    "        \"  - Création ou refonte d’un site internet ou d’une solution de vente en ligne\\n\"\n",
    "        \"  - Référencement naturel (SEO)\\n\"\n",
    "        \"  - Abonnement à une place de marché\\n\"\n",
    "        \"  - Développement de la présence sur les réseaux sociaux\\n\"\n",
    "        \"  - Développement d’une application mobile\\n\"\n",
    "        \"  - Mise en place de chatbots\\n\"\n",
    "        \"- Projets de sécurité informatique :\\n\"\n",
    "        \"  - Audits de sécurité, tests d’intrusion\\n\"\n",
    "        \"  - Sécurisation des sites internet\\n\"\n",
    "        \"  - Sécurisation des données (conformité RGPD, correction des failles)\\n\"\n",
    "        \"  - Assistance à la création de VPN\\n\"\n",
    "        \"  - Prestation de sauvegarde des données\\n\\n\"\n",
    "        \"Sources:\\n\"\n",
    "        \"[Document: FA_1.2.5_kap_numerique.pdf, Section: 3. DESCRIPTION TECHNIQUE, Page: 2, Mise à jour: Date non disponible]\\n\"\n",
    "        \"[Document: FAQs-Kap Numerique V2, Section: 3-Projets finançables, Page: 1, Mise à jour: 04/03/2025]\\n\\n\"\n",
    "        \"Maintenant, réponds à la question en respectant ce format.\"\n",
    "    )\n",
    "    \n",
    "    # Construction de l'invite utilisateur\n",
    "    user_prompt = f\"Question: {state['question']}\\n\\nContexte extrait des documents:\\n{docs_content}\"\n",
    "    \n",
    "    # Messages combinant instructions système et question de l'utilisateur\n",
    "    messages = [\n",
    "        {\"role\": \"system\", \"content\": system_instructions},\n",
    "        {\"role\": \"user\", \"content\": user_prompt}\n",
    "    ]\n",
    "    \n",
    "    # Appel au modèle LLM avec gestion des erreurs\n",
    "    try:\n",
    "        response = llm.invoke(messages)\n",
    "        return {\"answer\": response.content}\n",
    "    except Exception as e:\n",
    "        return {\"answer\": f\"Erreur lors de la génération de la réponse : {e}\"}\n",
    "\n",
    "\n",
    "# Construction du graphe d'application\n",
    "graph_builder = StateGraph(State).add_sequence([retrieve, generate])\n",
    "graph_builder.add_edge(START, \"retrieve\")\n",
    "graph = graph_builder.compile()\n",
    "\n"
   ]
  },
  {
   "cell_type": "code",
   "execution_count": 58,
   "metadata": {},
   "outputs": [
    {
     "name": "stdout",
     "output_type": "stream",
     "text": [
      "Tapez 'exit' pour quitter.\n",
      "\n",
      "Réponse : En réponse à votre question : \"J'ai 11 salariés, quel est le montant maximal de ma subvention ?\", voici les informations demandées :\n",
      "\n",
      "- Votre entreprise étant composée de 11 salariés, elle entre dans la catégorie des entreprises de 10 à 19 salariés.\n",
      "- Le montant maximal de la subvention pour les entreprises de cette taille est de 2 000 €.\n",
      "- Cette subvention représente 50% des dépenses éligibles HT, avec un plafond de remboursement de 2 000 €.\n",
      "\n",
      "Sources:\n",
      "[Document: FA_1.2.5_kap_numerique.pdf, Section: 4. Montant de l'aide, Page: 4, Mise à jour: Date non disponible]\n",
      "[Document: FA_1.2.5_kap_numerique.pdf, Section: 4. Montant de l'aide, Page: 6, Mise à jour: Date non disponible]\n",
      "\n",
      "Réponse : En réponse à votre question : \"Quels sont les codes APE inéligibles ?\", voici les informations demandées :\n",
      "\n",
      "- **Codes APE inéligibles dans le secteur numérique :**\n",
      "  - 58.29A : Édition de logiciels système et de réseau\n",
      "  - 58.29B : Édition de logiciels outils de développement et de langages\n",
      "  - 58.29C : Édition de logiciels applicatifs\n",
      "  - 63.12Z : Portails internet Infogérance\n",
      "  - 62.01Z : Programmation informatique\n",
      "  - 62.02B : Tierce maintenance de systèmes et d'applications informatiques\n",
      "  - 62.03Z : Gestion d'installations informatiques\n",
      "  - 62.09Z : Autres activités informatiques\n",
      "  - 63.11Z : Traitement de données, hébergement et activités connexes\n",
      "\n",
      "- **Autres secteurs inéligibles :**\n",
      "  - Secteurs définis par le Règlement général d'exemption par catégorie (RGEC)\n",
      "  - Production primaire de produits agricoles, pêche et aquaculture\n",
      "  - Activités financières et promotion immobilière\n",
      "  - Professions libérales réglementées relevant d'un ordre professionnel\n",
      "\n",
      "Sources :\n",
      "[Document: FA_1.2.5_kap_numerique.pdf, Section: ANNEXE 1 : LISTE DES CODES APE DES ENTREPRISES RELEVANT DU SECTEUR NUMÉRIQUE ET INÉLIGIBLE À L’ACTION, Page: 7, Mise à jour: Date non disponible]\n",
      "[Document: FA_1.2.5_kap_numerique.pdf, Section: ANNEXE 2 : EXEMPLE DE GRILLE DE NOTATION, Page: 8, Mise à jour: Date non disponible]\n"
     ]
    }
   ],
   "source": [
    "if __name__ == \"__main__\":\n",
    "    print(\"Tapez 'exit' pour quitter.\")\n",
    "    while True:\n",
    "        user_query = input(\"\\nPosez votre question : \")\n",
    "        if user_query.lower() in [\"exit\", \"quit\"]:\n",
    "            break\n",
    "        initial_state = {\"question\": user_query, \"context\": [], \"answer\": \"\"}\n",
    "        state = graph.invoke(initial_state)  \n",
    "        \n",
    "        # Vous pouvez ici enrichir la réponse en affichant aussi la provenance des passages utilisés\n",
    "        print(\"\\nRéponse :\", state[\"answer\"])"
   ]
  }
 ],
 "metadata": {
  "kernelspec": {
   "display_name": "Python 3",
   "language": "python",
   "name": "python3"
  },
  "language_info": {
   "codemirror_mode": {
    "name": "ipython",
    "version": 3
   },
   "file_extension": ".py",
   "mimetype": "text/x-python",
   "name": "python",
   "nbconvert_exporter": "python",
   "pygments_lexer": "ipython3",
   "version": "3.12.0"
  }
 },
 "nbformat": 4,
 "nbformat_minor": 2
}
